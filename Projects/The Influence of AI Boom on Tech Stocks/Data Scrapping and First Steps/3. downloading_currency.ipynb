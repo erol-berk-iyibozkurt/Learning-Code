{
 "cells": [
  {
   "cell_type": "code",
   "execution_count": 4,
   "metadata": {},
   "outputs": [
    {
     "name": "stdout",
     "output_type": "stream",
     "text": [
      "Downloading forex data for KRWUSD=X...\n"
     ]
    },
    {
     "name": "stderr",
     "output_type": "stream",
     "text": [
      "[*********************100%***********************]  1 of 1 completed\n",
      "[*********************100%***********************]  1 of 1 completed\n"
     ]
    },
    {
     "name": "stdout",
     "output_type": "stream",
     "text": [
      "Downloading forex data for HKDUSD=X...\n",
      "Downloading forex data for EURUSD=X...\n"
     ]
    },
    {
     "name": "stderr",
     "output_type": "stream",
     "text": [
      "[*********************100%***********************]  1 of 1 completed\n"
     ]
    },
    {
     "name": "stdout",
     "output_type": "stream",
     "text": [
      "Downloading forex data for JPYUSD=X...\n"
     ]
    },
    {
     "name": "stderr",
     "output_type": "stream",
     "text": [
      "[*********************100%***********************]  1 of 1 completed\n",
      "[*********************100%***********************]  1 of 1 completed"
     ]
    },
    {
     "name": "stdout",
     "output_type": "stream",
     "text": [
      "Downloading forex data for TWDUSD=X...\n",
      "Downloading forex data for ILAUSD=X...\n"
     ]
    },
    {
     "name": "stderr",
     "output_type": "stream",
     "text": [
      "\n",
      "[*********************100%***********************]  1 of 1 completed\n",
      "\n",
      "1 Failed download:\n",
      "['ILAUSD=X']: YFTzMissingError('$%ticker%: possibly delisted; no timezone found')\n"
     ]
    },
    {
     "name": "stdout",
     "output_type": "stream",
     "text": [
      "Downloading forex data for CADUSD=X...\n"
     ]
    },
    {
     "name": "stderr",
     "output_type": "stream",
     "text": [
      "[*********************100%***********************]  1 of 1 completed\n",
      "[*********************100%***********************]  1 of 1 completed"
     ]
    },
    {
     "name": "stdout",
     "output_type": "stream",
     "text": [
      "Downloading forex data for THBUSD=X...\n"
     ]
    },
    {
     "name": "stderr",
     "output_type": "stream",
     "text": [
      "\n"
     ]
    },
    {
     "name": "stdout",
     "output_type": "stream",
     "text": [
      "Forex rates have been saved to /Users/erolberkiyibozkurt/Documents/GitHub/Python/Projects/The Influence of AI Boom on Tech Stocks/Background Data/forex_rates_updated.csv.\n",
      "File has been successfully updated.\n"
     ]
    }
   ],
   "source": [
    "import pandas as pd\n",
    "import yfinance as yf\n",
    "\n",
    "def remove_time_from_date(file_path):\n",
    "    \"\"\"\n",
    "    Removes the time part from the Date column in the given CSV file.\n",
    "\n",
    "    Parameters:\n",
    "    - file_path (str): Path to the CSV file to be updated.\n",
    "    \"\"\"\n",
    "    # Load the CSV file\n",
    "    data = pd.read_csv(file_path)\n",
    "\n",
    "    # Remove the time part from the Date column (keep only the date)\n",
    "    data['Date'] = pd.to_datetime(data['Date']).dt.date\n",
    "\n",
    "    # Save the updated file to the same location\n",
    "    data.to_csv(file_path, index=False)\n",
    "    print(\"File has been successfully updated.\")\n",
    "\n",
    "def download_forex_rates(metadata_file, start_date, end_date, output_file):\n",
    "    \"\"\"\n",
    "    Downloads forex rates for all currencies in the metadata file within the given date range.\n",
    "\n",
    "    Parameters:\n",
    "    - metadata_file (str): Path to the stock metadata file.\n",
    "    - start_date (str): Start date for downloading forex rates (YYYY-MM-DD).\n",
    "    - end_date (str): End date for downloading forex rates (YYYY-MM-DD).\n",
    "    - output_file (str): Path where the forex rates CSV will be saved.\n",
    "    \"\"\"\n",
    "    # Load metadata to get unique currencies\n",
    "    metadata = pd.read_csv(metadata_file)\n",
    "    currencies = metadata['Currency'].unique()\n",
    "\n",
    "    # Initialize an empty DataFrame for storing forex rates\n",
    "    all_forex_data = pd.DataFrame()\n",
    "\n",
    "    # Download forex rates for each currency\n",
    "    for currency in currencies:\n",
    "        if currency == 'USD':\n",
    "            continue  # Skip USD as it doesn't need conversion\n",
    "\n",
    "        symbol = f\"{currency}USD=X\"\n",
    "        print(f\"Downloading forex data for {symbol}...\")\n",
    "\n",
    "        try:\n",
    "            forex_data = yf.download(symbol, start=start_date, end=end_date)\n",
    "            forex_data.reset_index(inplace=True)\n",
    "            forex_data['CurrencyPair'] = symbol\n",
    "            forex_data['Date'] = pd.to_datetime(forex_data['Date']).dt.date  # Remove time part from Date\n",
    "            all_forex_data = pd.concat([all_forex_data, forex_data[['Date', 'Adj Close']].rename(columns={'Adj Close': symbol})], axis=1)\n",
    "        except Exception as e:\n",
    "            print(f\"Error downloading data for {symbol}: {e}\")\n",
    "\n",
    "    # Remove duplicate Date columns and merge data\n",
    "    all_forex_data = all_forex_data.loc[:, ~all_forex_data.columns.duplicated()]\n",
    "    all_forex_data.to_csv(output_file, index=False)\n",
    "    print(f\"Forex rates have been saved to {output_file}.\")\n",
    "\n",
    "# Paths to the datasets\n",
    "metadata_file = \"/Users/erolberkiyibozkurt/Documents/GitHub/Python/Projects/The Influence of AI Boom on Tech Stocks/Extracted Data/stock_metadata_top100.csv\"\n",
    "output_file = \"/Users/erolberkiyibozkurt/Documents/GitHub/Python/Projects/The Influence of AI Boom on Tech Stocks/Background Data/forex_rates_updated.csv\"\n",
    "file_path = \"/Users/erolberkiyibozkurt/Documents/GitHub/Python/Projects/The Influence of AI Boom on Tech Stocks/Background Data/forex_rates.csv\"\n",
    "\n",
    "# Define the date range for downloading forex rates\n",
    "start_date = \"2010-01-01\"\n",
    "end_date = \"2025-01-10\"\n",
    "\n",
    "download_forex_rates(metadata_file, start_date, end_date, output_file)\n",
    "remove_time_from_date(file_path)\n"
   ]
  }
 ],
 "metadata": {
  "kernelspec": {
   "display_name": "Python 3",
   "language": "python",
   "name": "python3"
  },
  "language_info": {
   "codemirror_mode": {
    "name": "ipython",
    "version": 3
   },
   "file_extension": ".py",
   "mimetype": "text/x-python",
   "name": "python",
   "nbconvert_exporter": "python",
   "pygments_lexer": "ipython3",
   "version": "3.12.4"
  }
 },
 "nbformat": 4,
 "nbformat_minor": 2
}
