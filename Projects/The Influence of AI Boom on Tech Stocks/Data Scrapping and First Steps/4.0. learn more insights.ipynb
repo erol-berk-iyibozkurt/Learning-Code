{
 "cells": [
  {
   "cell_type": "code",
   "execution_count": null,
   "metadata": {},
   "outputs": [],
   "source": [
    "read_csv = read.csv('/Users/erolberkiyibozkurt/Documents/GitHub/Python/Projects/The Influence of AI Boom on Tech Stocks/Background Data/companiesmarketcap.com - Largest tech companies by market cap.csv')\n",
    "summary(read_csv)"
   ]
  },
  {
   "cell_type": "code",
   "execution_count": 1,
   "metadata": {},
   "outputs": [
    {
     "name": "stdout",
     "output_type": "stream",
     "text": [
      "           Country  Count\n",
      "0    United States     60\n",
      "1            China      9\n",
      "2            Japan      5\n",
      "3      Netherlands      4\n",
      "4           Taiwan      4\n",
      "5      South Korea      3\n",
      "6          Germany      2\n",
      "7           France      2\n",
      "8           Canada      2\n",
      "9      Switzerland      2\n",
      "10  United Kingdom      1\n",
      "11          Israel      1\n",
      "12       Argentina      1\n",
      "13          Sweden      1\n",
      "14       Australia      1\n",
      "15        Thailand      1\n",
      "16       Singapore      1\n"
     ]
    }
   ],
   "source": [
    "import pandas as pd\n",
    "\n",
    "file_path = '/Users/erolberkiyibozkurt/Documents/GitHub/Python/Projects/The Influence of AI Boom on Tech Stocks/Background Data/companiesmarketcap.com - Largest tech companies by market cap.csv'\n",
    "df = pd.read_csv(file_path)\n",
    "\n",
    "top_100_countries = df.head(100)['country'].value_counts().reset_index()\n",
    "top_100_countries.columns = ['Country', 'Count']\n",
    "\n",
    "# Sonuçları yazdır\n",
    "print(top_100_countries)"
   ]
  },
  {
   "cell_type": "code",
   "execution_count": 2,
   "metadata": {},
   "outputs": [
    {
     "name": "stdout",
     "output_type": "stream",
     "text": [
      "           Country  Count\n",
      "0    United States     60\n",
      "1            China      9\n",
      "2            Japan      5\n",
      "3      Netherlands      4\n",
      "4           Taiwan      4\n",
      "5      South Korea      3\n",
      "6          Germany      2\n",
      "7           France      2\n",
      "8           Canada      2\n",
      "9      Switzerland      2\n",
      "10  United Kingdom      1\n",
      "11          Israel      1\n",
      "12       Argentina      1\n",
      "13          Sweden      1\n",
      "14       Australia      1\n",
      "15        Thailand      1\n",
      "16       Singapore      1\n"
     ]
    }
   ],
   "source": [
    "import pandas as pd\n",
    "\n",
    "file_path = '/Users/erolberkiyibozkurt/Documents/GitHub/Python/Projects/The Influence of AI Boom on Tech Stocks/Background Data/companiesmarketcap.com - Largest tech companies by market cap.csv'\n",
    "\n",
    "df = pd.read_csv(file_path)\n",
    "\n",
    "\n",
    "top_100_companies = df.head(100)\n",
    "\n",
    "country_distribution = top_100_companies['country'].value_counts().reset_index()\n",
    "country_distribution.columns = ['Country', 'Count']\n",
    "\n",
    "print(country_distribution)"
   ]
  }
 ],
 "metadata": {
  "kernelspec": {
   "display_name": "Python 3",
   "language": "python",
   "name": "python3"
  },
  "language_info": {
   "codemirror_mode": {
    "name": "ipython",
    "version": 3
   },
   "file_extension": ".py",
   "mimetype": "text/x-python",
   "name": "python",
   "nbconvert_exporter": "python",
   "pygments_lexer": "ipython3",
   "version": "3.12.4"
  }
 },
 "nbformat": 4,
 "nbformat_minor": 2
}
