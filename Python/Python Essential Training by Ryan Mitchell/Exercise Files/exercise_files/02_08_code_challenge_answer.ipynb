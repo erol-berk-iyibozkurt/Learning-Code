{
 "cells": [
  {
   "cell_type": "code",
   "execution_count": 11,
   "metadata": {},
   "outputs": [
    {
     "name": "stdout",
     "output_type": "stream",
     "text": [
      "120\n",
      "720\n",
      "1\n",
      "None\n",
      "None\n",
      "None\n"
     ]
    }
   ],
   "source": [
    "# Python code​​​​​​‌​‌‌​‌​‌‌‌‌​​​​‌‌‌‌​‌​​​​ below\n",
    "def factorial(num):\n",
    "    fact = 1\n",
    "    isstr = isinstance(num, str)\n",
    "    isfloat = isinstance(num, float)\n",
    "    if isstr == False:\n",
    "        if isfloat == False:\n",
    "            if num > 0:\n",
    "                for i in range(1,num+1):\n",
    "                    fact = fact * i\n",
    "                    i += 1\n",
    "                return fact \n",
    "            elif num == 0:\n",
    "                return 1\n",
    "            else:\n",
    "                return None\n",
    "        else:\n",
    "            return None\n",
    "    else:\n",
    "        return None\n",
    "print(factorial(5))\n",
    "print(factorial(6))\n",
    "print(factorial(0))\n",
    "print(factorial(-2))\n",
    "print(factorial(1.2))\n",
    "print(factorial(\"spam spam spam\"))"
   ]
  },
  {
   "cell_type": "code",
   "execution_count": 9,
   "metadata": {},
   "outputs": [
    {
     "name": "stdout",
     "output_type": "stream",
     "text": [
      "120\n",
      "720\n",
      "1\n",
      "None\n",
      "None\n",
      "None\n"
     ]
    }
   ],
   "source": [
    "# Python code​​​​​​‌​‌‌​‌​‌‌‌‌​​​​‌‌‌‌​‌​​​​ below\n",
    "def factorial(num):\n",
    "    fact = 1\n",
    "    if type(num) != str:\n",
    "        if type(num) != float:\n",
    "            if num > 0:\n",
    "                for i in range(1,num+1):\n",
    "                    fact = fact * i\n",
    "                    i += 1\n",
    "                return fact \n",
    "            elif num == 0:\n",
    "                return 1\n",
    "            else:\n",
    "                return None\n",
    "        else:\n",
    "            return None\n",
    "    else:\n",
    "        return None\n",
    "print(factorial(5))\n",
    "print(factorial(6))\n",
    "print(factorial(0))\n",
    "print(factorial(-2))\n",
    "print(factorial(1.2))\n",
    "print(factorial(\"spam spam spam\"))"
   ]
  },
  {
   "cell_type": "markdown",
   "metadata": {},
   "source": [
    "### Solution"
   ]
  },
  {
   "cell_type": "code",
   "execution_count": 12,
   "metadata": {},
   "outputs": [
    {
     "name": "stdout",
     "output_type": "stream",
     "text": [
      "120\n",
      "720\n",
      "1\n",
      "None\n",
      "None\n",
      "None\n"
     ]
    }
   ],
   "source": [
    "def factorial(num):\n",
    "    if type(num) != int:\n",
    "        return None\n",
    "    if num < 0:\n",
    "        return None\n",
    "    fact = 1\n",
    "    counter = 1\n",
    "    while counter <= num:\n",
    "        fact = fact * counter\n",
    "        counter = counter + 1\n",
    "    return fact\n",
    "\n",
    "print(factorial(5))\n",
    "print(factorial(6))\n",
    "print(factorial(0))\n",
    "print(factorial(-2))\n",
    "print(factorial(1.2))\n",
    "print(factorial(\"spam spam spam\"))"
   ]
  },
  {
   "cell_type": "code",
   "execution_count": 13,
   "metadata": {},
   "outputs": [
    {
     "name": "stdout",
     "output_type": "stream",
     "text": [
      "120\n",
      "720\n",
      "1\n",
      "None\n",
      "None\n",
      "None\n"
     ]
    }
   ],
   "source": [
    "def factorial(num):\n",
    "    if type(num) != int:\n",
    "        return None\n",
    "    if num < 0:\n",
    "        return None\n",
    "    if num == 0:\n",
    "        return 1\n",
    "    return num * factorial(num-1)\n",
    "\n",
    "print(factorial(5))\n",
    "print(factorial(6))\n",
    "print(factorial(0))\n",
    "print(factorial(-2))\n",
    "print(factorial(1.2))\n",
    "print(factorial(\"spam spam spam\"))"
   ]
  }
 ],
 "metadata": {
  "kernelspec": {
   "display_name": "Python 3",
   "language": "python",
   "name": "python3"
  },
  "language_info": {
   "codemirror_mode": {
    "name": "ipython",
    "version": 3
   },
   "file_extension": ".py",
   "mimetype": "text/x-python",
   "name": "python",
   "nbconvert_exporter": "python",
   "pygments_lexer": "ipython3",
   "version": "3.12.4"
  }
 },
 "nbformat": 4,
 "nbformat_minor": 2
}
