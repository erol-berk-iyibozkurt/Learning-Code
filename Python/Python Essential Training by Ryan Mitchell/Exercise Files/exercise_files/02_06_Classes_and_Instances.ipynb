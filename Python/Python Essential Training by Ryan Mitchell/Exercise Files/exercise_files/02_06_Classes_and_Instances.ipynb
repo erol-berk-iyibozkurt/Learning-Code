{
 "cells": [
  {
   "cell_type": "markdown",
   "id": "7e7cecd6",
   "metadata": {},
   "source": [
    "## Classes"
   ]
  },
  {
   "cell_type": "code",
   "execution_count": 6,
   "id": "d5cde69b",
   "metadata": {},
   "outputs": [],
   "source": [
    "class Dog:\n",
    "    def __init__(self, name):\n",
    "        self.name = name\n",
    "        self.legs = 4\n",
    "    \n",
    "    def speak(self):\n",
    "        print(self.name + ' says: Bark!')\n",
    "        \n"
   ]
  },
  {
   "cell_type": "code",
   "execution_count": 7,
   "id": "5b3dde35",
   "metadata": {},
   "outputs": [],
   "source": [
    "my_dog = Dog('Rover')\n",
    "another_dog = Dog('Fluffy')"
   ]
  },
  {
   "cell_type": "code",
   "execution_count": 8,
   "id": "ceed1af6",
   "metadata": {},
   "outputs": [
    {
     "name": "stdout",
     "output_type": "stream",
     "text": [
      "Rover says: Bark!\n"
     ]
    }
   ],
   "source": [
    "my_dog.speak()"
   ]
  },
  {
   "cell_type": "code",
   "execution_count": 9,
   "id": "b85ea67b",
   "metadata": {},
   "outputs": [
    {
     "name": "stdout",
     "output_type": "stream",
     "text": [
      "Fluffy says: Bark!\n"
     ]
    }
   ],
   "source": [
    "another_dog.speak()"
   ]
  },
  {
   "cell_type": "code",
   "execution_count": 12,
   "id": "5d1838eb",
   "metadata": {},
   "outputs": [],
   "source": [
    "class hourform:\n",
    "    def __init__(self,minutes):\n",
    "        h = int(minutes // 60)\n",
    "        m = int(minutes % 60)\n",
    "        print(f'{h} hour and {m} minutes')\n",
    "        print()"
   ]
  },
  {
   "cell_type": "code",
   "execution_count": 15,
   "id": "5210a39c",
   "metadata": {},
   "outputs": [
    {
     "name": "stdout",
     "output_type": "stream",
     "text": [
      "2 hour and 0 minutes\n",
      "\n",
      "2 hour and 30 minutes\n",
      "\n"
     ]
    }
   ],
   "source": [
    "course101 = hourform (120)\n",
    "python = hourform(150)"
   ]
  },
  {
   "cell_type": "markdown",
   "id": "28e4e0d1",
   "metadata": {},
   "source": [
    "It should be all my activities and events as time calculate and give a total time"
   ]
  },
  {
   "cell_type": "code",
   "execution_count": 16,
   "id": "e4c2c491",
   "metadata": {},
   "outputs": [],
   "source": [
    "class totaltime:\n",
    "    def __init__(self,minutes):\n",
    "        total_time = 0\n",
    "        h = int(minutes // 60)\n",
    "        m = int(minutes % 60)\n",
    "        total = hourform(sum(total_time))\n",
    "        print(f'{h} hour and {m} minutes')"
   ]
  }
 ],
 "metadata": {
  "kernelspec": {
   "display_name": "Python 3 (ipykernel)",
   "language": "python",
   "name": "python3"
  },
  "language_info": {
   "codemirror_mode": {
    "name": "ipython",
    "version": 3
   },
   "file_extension": ".py",
   "mimetype": "text/x-python",
   "name": "python",
   "nbconvert_exporter": "python",
   "pygments_lexer": "ipython3",
   "version": "3.12.4"
  }
 },
 "nbformat": 4,
 "nbformat_minor": 5
}
