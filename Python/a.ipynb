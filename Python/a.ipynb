{
 "cells": [
  {
   "cell_type": "code",
   "execution_count": 2,
   "metadata": {},
   "outputs": [],
   "source": [
    "# 1. Başlık\n",
    "## 2. Başlık\n",
    "### 3. Başlık\n",
    "#### 4. Başlık\n",
    "##### 5. Başlık\n",
    "###### 6. Başlık\n"
   ]
  },
  {
   "cell_type": "markdown",
   "metadata": {},
   "source": [
    "# 1. Başlık\n",
    "## 2. Başlık\n",
    "### 3. Başlık\n",
    "#### 4. Başlık\n",
    "##### 5. Başlık\n",
    "###### 6. Başlık\n",
    "\n",
    "**kalın**\n",
    "*italik*\n",
    "normal\n",
    "\n",
    "[Google](https://google.com)\n",
    "[Google 2] (google.com)"
   ]
  }
 ],
 "metadata": {
  "kernelspec": {
   "display_name": "Python 3",
   "language": "python",
   "name": "python3"
  },
  "language_info": {
   "codemirror_mode": {
    "name": "ipython",
    "version": 3
   },
   "file_extension": ".py",
   "mimetype": "text/x-python",
   "name": "python",
   "nbconvert_exporter": "python",
   "pygments_lexer": "ipython3",
   "version": "3.10.1"
  }
 },
 "nbformat": 4,
 "nbformat_minor": 2
}
