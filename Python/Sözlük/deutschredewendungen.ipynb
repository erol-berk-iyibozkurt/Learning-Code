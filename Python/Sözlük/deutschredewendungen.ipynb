{
 "cells": [
  {
   "cell_type": "code",
   "execution_count": 9,
   "metadata": {},
   "outputs": [
    {
     "name": "stdout",
     "output_type": "stream",
     "text": [
      "{'a': 'b', 'c': 'd'}\n"
     ]
    }
   ],
   "source": [
    "Redewendungen = {\n",
    "    \n",
    "}\n",
    "while True:\n",
    "    key = input(\"Redewendung: \")\n",
    "    value = input(\"Bedeutung: \")\n",
    "    if key == \"stop\":\n",
    "        break\n",
    "    else:\n",
    "        Redewendungen[key] = value\n",
    "\n",
    "\n",
    "\n",
    "print(Redewendungen)"
   ]
  }
 ],
 "metadata": {
  "kernelspec": {
   "display_name": "Python 3",
   "language": "python",
   "name": "python3"
  },
  "language_info": {
   "codemirror_mode": {
    "name": "ipython",
    "version": 3
   },
   "file_extension": ".py",
   "mimetype": "text/x-python",
   "name": "python",
   "nbconvert_exporter": "python",
   "pygments_lexer": "ipython3",
   "version": "3.12.4"
  }
 },
 "nbformat": 4,
 "nbformat_minor": 2
}
